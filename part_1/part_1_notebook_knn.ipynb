{
 "cells": [
  {
   "cell_type": "code",
   "execution_count": 77,
   "metadata": {
    "collapsed": true
   },
   "outputs": [],
   "source": [
    "import os\n",
    "\n",
    "os.chdir(\"C:/Users/Ramy Fahim/Documents/Graduate School/Semester 1/Personalization Theory and Application\")\n",
    "\n",
    "import csv\n",
    "\n",
    "data = []\n",
    "\n",
    "with open('jester-data-1.csv', 'rb') as csvfile:\n",
    "    spamreader = csv.reader(csvfile, delimiter=',', quotechar='|')\n",
    "    for i, row in enumerate(spamreader):\n",
    "        data.append(row)\n",
    "        if i == 9999:\n",
    "            break"
   ]
  },
  {
   "cell_type": "code",
   "execution_count": 78,
   "metadata": {},
   "outputs": [
    {
     "name": "stdout",
     "output_type": "stream",
     "text": [
      "[['users' '1' '2' ..., '99' '100' '101']\n",
      " ['1' '0' '-7.82' ..., '0' '0' '0']\n",
      " ['2' '0' '4.08' ..., '0.34' '-4.32' '1.07']\n",
      " ..., \n",
      " ['97' '0' '3.54' ..., '8.25' '-4.95' '7.04']\n",
      " ['98' '0' '0' ..., '0' '0' '0']\n",
      " ['99' '0' '3.3' ..., '-0.44' '1.17' '6.5']]\n"
     ]
    }
   ],
   "source": [
    "for i in range(1, len(data)):\n",
    "    for j in range(len(data[i])):\n",
    "        if (float(data[i][j]) > 10) or (float(data[i][j]) < -10):\n",
    "            data[i][j] = 0\n",
    "\n",
    "for i in range(len(data)):\n",
    "    if i == 0:\n",
    "        data[i] = [\"users\"] + data[i]\n",
    "    else:\n",
    "        data[i] = [str(i)] + data[i]\n",
    "\n",
    "import numpy as np\n",
    "\n",
    "data = np.asarray(data)\n",
    "\n",
    "\n",
    "print (data)\n",
    "\n",
    "import surprise\n",
    "\n",
    "surprise.__version__\n",
    "\n",
    "import surprise\n",
    "from surprise import SVD\n",
    "from surprise import Dataset\n",
    "from surprise import evaluate, print_perf\n",
    "from surprise.evaluate import GridSearch\n",
    "\n",
    "\n",
    "import pandas as pd\n",
    "\n",
    "\n",
    "data = pd.DataFrame(data=data, index=data[0:,0], columns=data[0,0:])\n",
    "\n",
    "data = pd.melt(data, \n",
    "            id_vars='users', \n",
    "            value_vars=list(data.columns[1:]),\n",
    "            var_name='joke', \n",
    "            value_name='rating')"
   ]
  },
  {
   "cell_type": "code",
   "execution_count": 79,
   "metadata": {},
   "outputs": [
    {
     "name": "stdout",
     "output_type": "stream",
     "text": [
      "<type 'instance'>\n"
     ]
    }
   ],
   "source": [
    "reader = surprise.dataset.Reader(rating_scale=(-10, 10))\n",
    "## The columns must correspond to user id, item id and ratings (in that order).\n",
    "data = Dataset.load_from_df(data, reader=reader)\n",
    "#trainingSet = data.build_full_trainset()\n",
    "data.split(n_folds=2)\n",
    "#print (data.folds()[1])\n",
    "for train, test in data.folds():\n",
    "    training = train\n",
    "    testing = test\n",
    "\n",
    "print (type(training))\n",
    "#print (trainingSet)"
   ]
  },
  {
   "cell_type": "code",
   "execution_count": 80,
   "metadata": {},
   "outputs": [
    {
     "name": "stdout",
     "output_type": "stream",
     "text": [
      "<surprise.prediction_algorithms.knns.KNNBasic instance at 0x0000000024D60508>\n",
      "Computing the cosine similarity matrix...\n",
      "Done computing similarity matrix.\n",
      "RMSE: 7.5106\n",
      "MAE:  3.7135\n",
      "k = 10\n",
      "7.51058833773\n",
      "3.71347620901\n",
      "<surprise.prediction_algorithms.knns.KNNBasic instance at 0x000000002081DE48>\n",
      "Computing the cosine similarity matrix...\n",
      "Done computing similarity matrix.\n",
      "RMSE: 7.5166\n",
      "MAE:  3.7075\n",
      "k = 20\n",
      "7.51660904392\n",
      "3.70753576782\n",
      "<surprise.prediction_algorithms.knns.KNNBasic instance at 0x0000000024D60508>\n",
      "Computing the cosine similarity matrix...\n",
      "Done computing similarity matrix.\n",
      "RMSE: 7.5466\n",
      "MAE:  3.7508\n",
      "k = 40\n",
      "7.54656394825\n",
      "3.75080458403\n",
      "<surprise.prediction_algorithms.knns.KNNBasic instance at 0x000000002081DE48>\n",
      "Computing the cosine similarity matrix...\n",
      "Done computing similarity matrix.\n",
      "RMSE: 7.5709\n",
      "MAE:  3.8175\n",
      "k = 60\n",
      "7.57087422226\n",
      "3.81746719219\n"
     ]
    }
   ],
   "source": [
    "\n",
    "sim_options = {\n",
    "    'name': 'cosine', #pearson_baseline\n",
    "    'user_based': 'False'\n",
    "}\n",
    "\n",
    "for k in [10, 20, 40, 60]:\n",
    "    knn = surprise.prediction_algorithms.knns.KNNBasic(k = k, sim_options=sim_options)\n",
    "    print (knn)\n",
    "\n",
    "    knn.train(training)\n",
    "    #testSet = trainingSet.build_anti_testset()\n",
    "    predictions = knn.test(testing)\n",
    "\n",
    "    from surprise import accuracy\n",
    "\n",
    "\n",
    "\n",
    "    RMSE = accuracy.rmse(predictions, verbose=True)\n",
    "    MAE = accuracy.mae(predictions, verbose=True)\n",
    "    \n",
    "    print ('k = ' + str(k))\n",
    "\n",
    "    print (RMSE)\n",
    "    print (MAE)"
   ]
  },
  {
   "cell_type": "code",
   "execution_count": null,
   "metadata": {
    "collapsed": true
   },
   "outputs": [],
   "source": []
  }
 ],
 "metadata": {
  "kernelspec": {
   "display_name": "Python 2",
   "language": "python",
   "name": "python2"
  }
 },
 "nbformat": 4,
 "nbformat_minor": 2
}
